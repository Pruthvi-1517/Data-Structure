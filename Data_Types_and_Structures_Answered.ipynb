{
 "cells": [
  {
   "cell_type": "markdown",
   "id": "b4686839",
   "metadata": {},
   "source": [
    "### Q1. What are data structures, and why are they important?"
   ]
  },
  {
   "cell_type": "code",
   "execution_count": 3,
   "id": "cd6d4ca9",
   "metadata": {},
   "outputs": [
    {
     "data": {
      "text/plain": [
       "'Data structures are ways to organize and store data in a computer so it can be accessed and modified efficiently. They are important because they enable \\nprogrammers to manage and process data effectively, optimizing time and space complexity.'"
      ]
     },
     "execution_count": 3,
     "metadata": {},
     "output_type": "execute_result"
    }
   ],
   "source": [
    "\"\"\"Data structures are ways to organize and store data in a computer so it can be accessed and modified efficiently. They are important because they enable \n",
    "programmers to manage and process data effectively, optimizing time and space complexity.\"\"\""
   ]
  },
  {
   "cell_type": "markdown",
   "id": "838eb6c8",
   "metadata": {},
   "source": [
    "### Q2. Explain the difference between mutable and immutable data types with examples."
   ]
  },
  {
   "cell_type": "code",
   "execution_count": 4,
   "id": "ca3ff4e6",
   "metadata": {},
   "outputs": [
    {
     "data": {
      "text/plain": [
       "'x = [1, 2]\\nx.append(3)  # mutable\\n\\ns = \"hello\"\\ns[0] = \\'y\\'  # error, immutable\\n'"
      ]
     },
     "execution_count": 4,
     "metadata": {},
     "output_type": "execute_result"
    }
   ],
   "source": [
    "\"\"\"Mutable types can be changed after creation (e.g., lists, dictionaries), whereas immutable types cannot (e.g., tuples, strings). Example:\n",
    "\"\"\"\n",
    "\n",
    "'''x = [1, 2]\n",
    "x.append(3)  # mutable\n",
    "\n",
    "s = \"hello\"\n",
    "s[0] = 'y'  # error, immutable\n",
    "'''"
   ]
  },
  {
   "cell_type": "markdown",
   "id": "61e93f09",
   "metadata": {},
   "source": [
    "### Q3. What are the main differences between lists and tuples in Python?"
   ]
  },
  {
   "cell_type": "code",
   "execution_count": 5,
   "id": "304371df",
   "metadata": {},
   "outputs": [
    {
     "data": {
      "text/plain": [
       "'Lists are mutable, can be changed after creation, and use square brackets []. Tuples are immutable, cannot be changed, and use parentheses ().'"
      ]
     },
     "execution_count": 5,
     "metadata": {},
     "output_type": "execute_result"
    }
   ],
   "source": [
    "\"\"\"Lists are mutable, can be changed after creation, and use square brackets []. Tuples are immutable, cannot be changed, and use parentheses ().\"\"\""
   ]
  },
  {
   "cell_type": "markdown",
   "id": "5256a5bc",
   "metadata": {},
   "source": [
    "### Q4. Describe how dictionaries store data."
   ]
  },
  {
   "cell_type": "code",
   "execution_count": 6,
   "id": "7a973f0f",
   "metadata": {},
   "outputs": [],
   "source": [
    "#Dictionaries store data as key-value pairs. Each key maps to a value, and Python uses a hash table internally to retrieve values efficiently."
   ]
  },
  {
   "cell_type": "markdown",
   "id": "b3f44eca",
   "metadata": {},
   "source": [
    "### Q5. Why might you use a set instead of a list in Python?"
   ]
  },
  {
   "cell_type": "code",
   "execution_count": 7,
   "id": "7354c716",
   "metadata": {},
   "outputs": [],
   "source": [
    "#Sets are unordered collections of unique items. Use a set when you want to eliminate duplicates and perform fast membership testing."
   ]
  },
  {
   "cell_type": "markdown",
   "id": "6e9f59ea",
   "metadata": {},
   "source": [
    "### Q6. What is a string in Python, and how is it different from a list?"
   ]
  },
  {
   "cell_type": "code",
   "execution_count": 8,
   "id": "e4bbc502",
   "metadata": {},
   "outputs": [],
   "source": [
    "#A string is a sequence of characters, immutable, and enclosed in quotes. A list is mutable and can contain elements of any data type."
   ]
  },
  {
   "cell_type": "markdown",
   "id": "66aeb230",
   "metadata": {},
   "source": [
    "### Q7. How do tuples ensure data integrity in Python?"
   ]
  },
  {
   "cell_type": "code",
   "execution_count": 9,
   "id": "814b01aa",
   "metadata": {},
   "outputs": [],
   "source": [
    "#Because tuples are immutable, once created their content cannot be changed, ensuring data consistency."
   ]
  },
  {
   "cell_type": "markdown",
   "id": "a071fff5",
   "metadata": {},
   "source": [
    "### Q8. What is a hash table, and how does it relate to dictionaries in Python?"
   ]
  },
  {
   "cell_type": "code",
   "execution_count": 10,
   "id": "e0549efa",
   "metadata": {},
   "outputs": [],
   "source": [
    "\n",
    "#A hash table is a data structure that maps keys to values using a hash function. Dictionaries in Python use hash tables internally."
   ]
  },
  {
   "cell_type": "markdown",
   "id": "73cd411b",
   "metadata": {},
   "source": [
    "### Q9. Can lists contain different data types in Python?"
   ]
  },
  {
   "cell_type": "code",
   "execution_count": 11,
   "id": "7c488cf0",
   "metadata": {},
   "outputs": [],
   "source": [
    "#Yes, Python lists can contain different data types like integers, strings, and even other lists or objects."
   ]
  },
  {
   "cell_type": "markdown",
   "id": "35f5b4c8",
   "metadata": {},
   "source": [
    "### Q10. Explain why strings are immutable in Python."
   ]
  },
  {
   "cell_type": "code",
   "execution_count": 12,
   "id": "6ffcc2b3",
   "metadata": {},
   "outputs": [],
   "source": [
    "#Strings are immutable for efficiency and security. Instead of modifying a string, a new one is created which allows internal optimizations."
   ]
  },
  {
   "cell_type": "markdown",
   "id": "c8f009c6",
   "metadata": {},
   "source": [
    "### Q11. What advantages do dictionaries offer over lists for certain tasks?"
   ]
  },
  {
   "cell_type": "code",
   "execution_count": 13,
   "id": "627cf197",
   "metadata": {},
   "outputs": [],
   "source": [
    "#Dictionaries allow fast lookups via keys, making them more efficient for tasks involving key-value mapping."
   ]
  },
  {
   "cell_type": "markdown",
   "id": "ad07468a",
   "metadata": {},
   "source": [
    "### Q12. Describe a scenario where using a tuple would be preferable over a list."
   ]
  },
  {
   "cell_type": "code",
   "execution_count": 14,
   "id": "66871359",
   "metadata": {},
   "outputs": [],
   "source": [
    "#When storing coordinates (x, y), where values should not change, tuples are ideal due to their immutability."
   ]
  },
  {
   "cell_type": "markdown",
   "id": "6d0f81f3",
   "metadata": {},
   "source": [
    "### Q13. How do sets handle duplicate values in Python?"
   ]
  },
  {
   "cell_type": "code",
   "execution_count": 15,
   "id": "154206bc",
   "metadata": {},
   "outputs": [],
   "source": [
    "#Sets automatically remove duplicates; any repeated values are ignored when added to the set."
   ]
  },
  {
   "cell_type": "markdown",
   "id": "e9aaa84e",
   "metadata": {},
   "source": [
    "### Q14. How does the 'in' keyword work differently for lists and dictionaries?"
   ]
  },
  {
   "cell_type": "code",
   "execution_count": 16,
   "id": "6eb50fae",
   "metadata": {},
   "outputs": [],
   "source": [
    "#'in' checks for values in lists but checks for keys in dictionaries."
   ]
  },
  {
   "cell_type": "markdown",
   "id": "7adf9b8b",
   "metadata": {},
   "source": [
    "### Q15. Can you modify the elements of a tuple? Explain why or why not."
   ]
  },
  {
   "cell_type": "code",
   "execution_count": 17,
   "id": "66948c1f",
   "metadata": {},
   "outputs": [],
   "source": [
    "#No, tuples are immutable; once created, their elements cannot be changed."
   ]
  },
  {
   "cell_type": "markdown",
   "id": "bb7da9ab",
   "metadata": {},
   "source": [
    "### Q16. What is a nested dictionary, and give an example of its use case?"
   ]
  },
  {
   "cell_type": "code",
   "execution_count": 18,
   "id": "7c648e32",
   "metadata": {},
   "outputs": [],
   "source": [
    "# dictionary inside another dictionary. Example: `student = {'name': 'Alex', 'grades': {'math': 90, 'science': 85}}`"
   ]
  },
  {
   "cell_type": "markdown",
   "id": "f0ddaa6c",
   "metadata": {},
   "source": [
    "### Q17. Describe the time complexity of accessing elements in a dictionary."
   ]
  },
  {
   "cell_type": "code",
   "execution_count": 19,
   "id": "3db45387",
   "metadata": {},
   "outputs": [],
   "source": [
    "#Average time complexity is O(1) due to hash table implementation."
   ]
  },
  {
   "cell_type": "markdown",
   "id": "6e4c39ee",
   "metadata": {},
   "source": [
    "### Q18. In what situations are lists preferred over dictionaries?"
   ]
  },
  {
   "cell_type": "code",
   "execution_count": 20,
   "id": "eeb5389c",
   "metadata": {},
   "outputs": [],
   "source": [
    "#Lists are preferred when order matters or for simple sequences of values without key-value association."
   ]
  },
  {
   "cell_type": "markdown",
   "id": "9173d2dc",
   "metadata": {},
   "source": [
    "### Q19. Why are dictionaries considered unordered, and how does that affect data retrieval?"
   ]
  },
  {
   "cell_type": "code",
   "execution_count": 21,
   "id": "b112281b",
   "metadata": {},
   "outputs": [],
   "source": [
    "#Until Python 3.7, dictionaries were unordered. Even now, order is not guaranteed in logic. Retrieval is by key, not order."
   ]
  },
  {
   "cell_type": "markdown",
   "id": "becd9460",
   "metadata": {},
   "source": [
    "### Q20. Explain the difference between a list and a dictionary in terms of data retrieval."
   ]
  },
  {
   "cell_type": "code",
   "execution_count": 22,
   "id": "ba54bef2",
   "metadata": {},
   "outputs": [],
   "source": [
    "#Lists retrieve by index, while dictionaries retrieve by key. Dictionary access is generally faster for key lookups."
   ]
  },
  {
   "cell_type": "markdown",
   "id": "89a843a2",
   "metadata": {},
   "source": [
    "### Q1"
   ]
  },
  {
   "cell_type": "code",
   "execution_count": 23,
   "id": "60aa376a",
   "metadata": {},
   "outputs": [
    {
     "name": "stdout",
     "output_type": "stream",
     "text": [
      "Pruthvi\n"
     ]
    }
   ],
   "source": [
    "name = \"Pruthvi\"\n",
    "print(name)"
   ]
  },
  {
   "cell_type": "markdown",
   "id": "72e3fc90",
   "metadata": {},
   "source": [
    "### Q2"
   ]
  },
  {
   "cell_type": "code",
   "execution_count": 24,
   "id": "fcb5d068",
   "metadata": {},
   "outputs": [
    {
     "name": "stdout",
     "output_type": "stream",
     "text": [
      "11\n"
     ]
    }
   ],
   "source": [
    "s = \"Hello World\"\n",
    "print(len(s))"
   ]
  },
  {
   "cell_type": "markdown",
   "id": "ee2ff136",
   "metadata": {},
   "source": [
    "### Q3"
   ]
  },
  {
   "cell_type": "code",
   "execution_count": 25,
   "id": "f6838b07",
   "metadata": {},
   "outputs": [
    {
     "name": "stdout",
     "output_type": "stream",
     "text": [
      "Pyt\n"
     ]
    }
   ],
   "source": [
    "s = \"Python Programming\"\n",
    "print(s[:3])"
   ]
  },
  {
   "cell_type": "markdown",
   "id": "e010e23b",
   "metadata": {},
   "source": [
    "### Q4"
   ]
  },
  {
   "cell_type": "code",
   "execution_count": 26,
   "id": "360af389",
   "metadata": {},
   "outputs": [
    {
     "name": "stdout",
     "output_type": "stream",
     "text": [
      "HELLO\n"
     ]
    }
   ],
   "source": [
    "s = \"hello\"\n",
    "print(s.upper())"
   ]
  },
  {
   "cell_type": "markdown",
   "id": "773e07f0",
   "metadata": {},
   "source": [
    "### Q5"
   ]
  },
  {
   "cell_type": "code",
   "execution_count": 27,
   "id": "17e44db5",
   "metadata": {},
   "outputs": [
    {
     "name": "stdout",
     "output_type": "stream",
     "text": [
      "I like orange\n"
     ]
    }
   ],
   "source": [
    "s = \"I like apple\"\n",
    "print(s.replace(\"apple\", \"orange\"))"
   ]
  },
  {
   "cell_type": "markdown",
   "id": "48c32028",
   "metadata": {},
   "source": [
    "### Q6"
   ]
  },
  {
   "cell_type": "code",
   "execution_count": 28,
   "id": "cd17193d",
   "metadata": {},
   "outputs": [
    {
     "name": "stdout",
     "output_type": "stream",
     "text": [
      "[1, 2, 3, 4, 5]\n"
     ]
    }
   ],
   "source": [
    "print(list(range(1, 6)))"
   ]
  },
  {
   "cell_type": "markdown",
   "id": "3ad3ba87",
   "metadata": {},
   "source": [
    "### Q7"
   ]
  },
  {
   "cell_type": "code",
   "execution_count": 29,
   "id": "d577ace6",
   "metadata": {},
   "outputs": [
    {
     "name": "stdout",
     "output_type": "stream",
     "text": [
      "[1, 2, 3, 4, 10]\n"
     ]
    }
   ],
   "source": [
    "lst = [1, 2, 3, 4]\n",
    "lst.append(10)\n",
    "print(lst)"
   ]
  },
  {
   "cell_type": "markdown",
   "id": "13ae05e0",
   "metadata": {},
   "source": [
    "### Q8"
   ]
  },
  {
   "cell_type": "code",
   "execution_count": 30,
   "id": "b5e107e0",
   "metadata": {},
   "outputs": [
    {
     "name": "stdout",
     "output_type": "stream",
     "text": [
      "[1, 2, 4, 5]\n"
     ]
    }
   ],
   "source": [
    "lst = [1, 2, 3, 4, 5]\n",
    "lst.remove(3)\n",
    "print(lst)"
   ]
  },
  {
   "cell_type": "markdown",
   "id": "ab3a0a6e",
   "metadata": {},
   "source": [
    "### Q9"
   ]
  },
  {
   "cell_type": "code",
   "execution_count": 31,
   "id": "26a4bfdc",
   "metadata": {},
   "outputs": [
    {
     "name": "stdout",
     "output_type": "stream",
     "text": [
      "2\n"
     ]
    }
   ],
   "source": [
    "lst = [1, 2, 3, 4, 5]\n",
    "print(lst[1])"
   ]
  },
  {
   "cell_type": "markdown",
   "id": "d57c15ff",
   "metadata": {},
   "source": [
    "### Q10"
   ]
  },
  {
   "cell_type": "code",
   "execution_count": 32,
   "id": "2d6e0d6b",
   "metadata": {},
   "outputs": [
    {
     "name": "stdout",
     "output_type": "stream",
     "text": [
      "[50, 40, 30, 20, 10]\n"
     ]
    }
   ],
   "source": [
    "lst = [10, 20, 30, 40, 50]\n",
    "lst.reverse()\n",
    "print(lst)"
   ]
  },
  {
   "cell_type": "markdown",
   "id": "2838a752",
   "metadata": {},
   "source": [
    "### Q11"
   ]
  },
  {
   "cell_type": "code",
   "execution_count": 33,
   "id": "1be45d00",
   "metadata": {},
   "outputs": [
    {
     "name": "stdout",
     "output_type": "stream",
     "text": [
      "(100, 200, 300)\n"
     ]
    }
   ],
   "source": [
    "t = (100, 200, 300)\n",
    "print(t)"
   ]
  },
  {
   "cell_type": "markdown",
   "id": "7d97ae08",
   "metadata": {},
   "source": [
    "### Q12"
   ]
  },
  {
   "cell_type": "code",
   "execution_count": 34,
   "id": "e945e69c",
   "metadata": {},
   "outputs": [
    {
     "name": "stdout",
     "output_type": "stream",
     "text": [
      "blue\n"
     ]
    }
   ],
   "source": [
    "t = ('red', 'green', 'blue', 'yellow')\n",
    "print(t[-2])"
   ]
  },
  {
   "cell_type": "markdown",
   "id": "fa04eef2",
   "metadata": {},
   "source": [
    "### Q13"
   ]
  },
  {
   "cell_type": "code",
   "execution_count": 35,
   "id": "28d50cf3",
   "metadata": {},
   "outputs": [
    {
     "name": "stdout",
     "output_type": "stream",
     "text": [
      "5\n"
     ]
    }
   ],
   "source": [
    "t = (10, 20, 5, 15)\n",
    "print(min(t))"
   ]
  },
  {
   "cell_type": "markdown",
   "id": "94a1dfad",
   "metadata": {},
   "source": [
    "### Q14"
   ]
  },
  {
   "cell_type": "code",
   "execution_count": 36,
   "id": "fe5e0f01",
   "metadata": {},
   "outputs": [
    {
     "name": "stdout",
     "output_type": "stream",
     "text": [
      "1\n"
     ]
    }
   ],
   "source": [
    "t = ('dog', 'cat', 'rabbit')\n",
    "print(t.index('cat'))"
   ]
  },
  {
   "cell_type": "markdown",
   "id": "0ae3a947",
   "metadata": {},
   "source": [
    "### Q15"
   ]
  },
  {
   "cell_type": "code",
   "execution_count": 37,
   "id": "a43cbe04",
   "metadata": {},
   "outputs": [
    {
     "name": "stdout",
     "output_type": "stream",
     "text": [
      "True\n"
     ]
    }
   ],
   "source": [
    "t = ('apple', 'banana', 'kiwi')\n",
    "print('kiwi' in t)"
   ]
  },
  {
   "cell_type": "markdown",
   "id": "c4a3a59a",
   "metadata": {},
   "source": [
    "### Q16"
   ]
  },
  {
   "cell_type": "code",
   "execution_count": 38,
   "id": "e852876d",
   "metadata": {},
   "outputs": [
    {
     "name": "stdout",
     "output_type": "stream",
     "text": [
      "{'b', 'a', 'c'}\n"
     ]
    }
   ],
   "source": [
    "s = {'a', 'b', 'c'}\n",
    "print(s)"
   ]
  },
  {
   "cell_type": "markdown",
   "id": "9fed5e2b",
   "metadata": {},
   "source": [
    "### Q17"
   ]
  },
  {
   "cell_type": "code",
   "execution_count": 39,
   "id": "abce799c",
   "metadata": {},
   "outputs": [
    {
     "name": "stdout",
     "output_type": "stream",
     "text": [
      "set()\n"
     ]
    }
   ],
   "source": [
    "s = {1, 2, 3, 4, 5}\n",
    "s.clear()\n",
    "print(s)"
   ]
  },
  {
   "cell_type": "markdown",
   "id": "a69dfb5f",
   "metadata": {},
   "source": [
    "### Q18"
   ]
  },
  {
   "cell_type": "code",
   "execution_count": 40,
   "id": "a797f79a",
   "metadata": {},
   "outputs": [
    {
     "name": "stdout",
     "output_type": "stream",
     "text": [
      "{1, 2, 3}\n"
     ]
    }
   ],
   "source": [
    "s = {1, 2, 3, 4}\n",
    "s.discard(4)\n",
    "print(s)"
   ]
  },
  {
   "cell_type": "markdown",
   "id": "7ef92f38",
   "metadata": {},
   "source": [
    "### Q19"
   ]
  },
  {
   "cell_type": "code",
   "execution_count": 41,
   "id": "dad0415a",
   "metadata": {},
   "outputs": [
    {
     "name": "stdout",
     "output_type": "stream",
     "text": [
      "{1, 2, 3, 4, 5}\n"
     ]
    }
   ],
   "source": [
    "print({1, 2, 3}.union({3, 4, 5}))"
   ]
  },
  {
   "cell_type": "markdown",
   "id": "a1543736",
   "metadata": {},
   "source": [
    "### Q20"
   ]
  },
  {
   "cell_type": "code",
   "execution_count": 42,
   "id": "26d0b860",
   "metadata": {},
   "outputs": [
    {
     "name": "stdout",
     "output_type": "stream",
     "text": [
      "{2, 3}\n"
     ]
    }
   ],
   "source": [
    "print({1, 2, 3}.intersection({2, 3, 4}))"
   ]
  },
  {
   "cell_type": "markdown",
   "id": "8185b1db",
   "metadata": {},
   "source": [
    "### Q21"
   ]
  },
  {
   "cell_type": "code",
   "execution_count": 43,
   "id": "909e6770",
   "metadata": {},
   "outputs": [
    {
     "name": "stdout",
     "output_type": "stream",
     "text": [
      "{'name': 'John', 'age': 25, 'city': 'NY'}\n"
     ]
    }
   ],
   "source": [
    "d = {'name': 'John', 'age': 25, 'city': 'NY'}\n",
    "print(d)"
   ]
  },
  {
   "cell_type": "markdown",
   "id": "6b40fce8",
   "metadata": {},
   "source": [
    "### Q22"
   ]
  },
  {
   "cell_type": "code",
   "execution_count": 44,
   "id": "d571b214",
   "metadata": {},
   "outputs": [
    {
     "name": "stdout",
     "output_type": "stream",
     "text": [
      "{'name': 'John', 'age': 25, 'country': 'USA'}\n"
     ]
    }
   ],
   "source": [
    "d = {'name': 'John', 'age': 25}\n",
    "d['country'] = 'USA'\n",
    "print(d)"
   ]
  },
  {
   "cell_type": "markdown",
   "id": "d3a06420",
   "metadata": {},
   "source": [
    "### Q23"
   ]
  },
  {
   "cell_type": "code",
   "execution_count": 45,
   "id": "2a244db7",
   "metadata": {},
   "outputs": [
    {
     "name": "stdout",
     "output_type": "stream",
     "text": [
      "Alice\n"
     ]
    }
   ],
   "source": [
    "d = {'name': 'Alice', 'age': 30}\n",
    "print(d['name'])"
   ]
  },
  {
   "cell_type": "markdown",
   "id": "b13a9172",
   "metadata": {},
   "source": [
    "### Q24"
   ]
  },
  {
   "cell_type": "code",
   "execution_count": 46,
   "id": "ab98f7ed",
   "metadata": {},
   "outputs": [
    {
     "name": "stdout",
     "output_type": "stream",
     "text": [
      "{'name': 'Bob', 'city': 'NY'}\n"
     ]
    }
   ],
   "source": [
    "d = {'name': 'Bob', 'age': 22, 'city': 'NY'}\n",
    "d.pop('age')\n",
    "print(d)"
   ]
  },
  {
   "cell_type": "markdown",
   "id": "4b3418c1",
   "metadata": {},
   "source": [
    "### Q25"
   ]
  },
  {
   "cell_type": "code",
   "execution_count": 47,
   "id": "6a0921c6",
   "metadata": {},
   "outputs": [
    {
     "name": "stdout",
     "output_type": "stream",
     "text": [
      "True\n"
     ]
    }
   ],
   "source": [
    "d = {'name': 'Alice', 'city': 'Paris'}\n",
    "print('city' in d)"
   ]
  },
  {
   "cell_type": "markdown",
   "id": "742f95e9",
   "metadata": {},
   "source": [
    "### Q26"
   ]
  },
  {
   "cell_type": "code",
   "execution_count": 48,
   "id": "866cdc0a",
   "metadata": {},
   "outputs": [
    {
     "name": "stdout",
     "output_type": "stream",
     "text": [
      "[1, 2, 3] (1, 2, 3) {'a': 1}\n"
     ]
    }
   ],
   "source": [
    "lst = [1, 2, 3]\n",
    "tpl = (1, 2, 3)\n",
    "dct = {'a': 1}\n",
    "print(lst, tpl, dct)"
   ]
  },
  {
   "cell_type": "markdown",
   "id": "e822e96a",
   "metadata": {},
   "source": [
    "### Q27"
   ]
  },
  {
   "cell_type": "code",
   "execution_count": 49,
   "id": "4cc793a6",
   "metadata": {},
   "outputs": [
    {
     "name": "stdout",
     "output_type": "stream",
     "text": [
      "[14, 44, 78, 85, 97]\n"
     ]
    }
   ],
   "source": [
    "import random\n",
    "lst = sorted(random.sample(range(1, 101), 5))\n",
    "print(lst)"
   ]
  },
  {
   "cell_type": "markdown",
   "id": "dbc34043",
   "metadata": {},
   "source": [
    "### Q28"
   ]
  },
  {
   "cell_type": "code",
   "execution_count": 50,
   "id": "43650801",
   "metadata": {},
   "outputs": [
    {
     "name": "stdout",
     "output_type": "stream",
     "text": [
      "c\n"
     ]
    }
   ],
   "source": [
    "lst = ['a', 'b', 'c']\n",
    "print(lst[2])"
   ]
  },
  {
   "cell_type": "markdown",
   "id": "5cf0e8f1",
   "metadata": {},
   "source": [
    "### Q29"
   ]
  },
  {
   "cell_type": "code",
   "execution_count": 51,
   "id": "9ac55864",
   "metadata": {},
   "outputs": [
    {
     "name": "stdout",
     "output_type": "stream",
     "text": [
      "{'a': 1, 'b': 2}\n"
     ]
    }
   ],
   "source": [
    "d1 = {'a': 1}\n",
    "d2 = {'b': 2}\n",
    "d1.update(d2)\n",
    "print(d1)"
   ]
  },
  {
   "cell_type": "markdown",
   "id": "55bfcf2b",
   "metadata": {},
   "source": [
    "### Q30"
   ]
  },
  {
   "cell_type": "code",
   "execution_count": 52,
   "id": "b8aa839d",
   "metadata": {},
   "outputs": [
    {
     "name": "stdout",
     "output_type": "stream",
     "text": [
      "{'b', 'a'}\n"
     ]
    }
   ],
   "source": [
    "lst = ['a', 'b', 'a']\n",
    "print(set(lst))"
   ]
  }
 ],
 "metadata": {
  "kernelspec": {
   "display_name": "Python 3",
   "language": "python",
   "name": "python3"
  },
  "language_info": {
   "codemirror_mode": {
    "name": "ipython",
    "version": 3
   },
   "file_extension": ".py",
   "mimetype": "text/x-python",
   "name": "python",
   "nbconvert_exporter": "python",
   "pygments_lexer": "ipython3",
   "version": "3.13.3"
  }
 },
 "nbformat": 4,
 "nbformat_minor": 5
}
